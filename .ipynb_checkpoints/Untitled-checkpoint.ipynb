{
 "cells": [
  {
   "cell_type": "code",
   "execution_count": 1,
   "id": "a92a7927",
   "metadata": {},
   "outputs": [],
   "source": [
    "from ctypes.wintypes import WORD\n",
    "from email import message\n",
    "from selenium import webdriver\n",
    "from selenium.webdriver.chrome.service import Service\n",
    "from selenium.webdriver.support.wait import WebDriverWait\n",
    "from selenium.webdriver.support import expected_conditions as EC\n",
    "from selenium.webdriver.common.action_chains import ActionChains\n",
    "from selenium.webdriver.common.by import By\n",
    "import time\n",
    "from bs4 import BeautifulSoup as Soup\n",
    "import os\n",
    "from module import PC,function\n",
    "from webdriver_manager.chrome import ChromeDriverManager\n",
    "from datetime import datetime\n"
   ]
  },
  {
   "cell_type": "code",
   "execution_count": 5,
   "id": "303eb9c0",
   "metadata": {},
   "outputs": [
    {
     "name": "stderr",
     "output_type": "stream",
     "text": [
      "C:\\Users\\allen\\AppData\\Local\\Temp\\ipykernel_117436\\4255678820.py:1: DeprecationWarning: executable_path has been deprecated, please pass in a Service object\n",
      "  browser = webdriver.Chrome(ChromeDriverManager().install())\n"
     ]
    }
   ],
   "source": [
    "browser = webdriver.Chrome(ChromeDriverManager().install())\n",
    "url = 'https://m.bsportstest.com/'  \n",
    "browser.get(url)\n",
    "print(browser.find_element(By.CLASS_NAME,'currency-icon').text)\n"
   ]
  },
  {
   "cell_type": "code",
   "execution_count": null,
   "id": "06bd8b5a",
   "metadata": {},
   "outputs": [],
   "source": []
  }
 ],
 "metadata": {
  "kernelspec": {
   "display_name": "Python 3 (ipykernel)",
   "language": "python",
   "name": "python3"
  },
  "language_info": {
   "codemirror_mode": {
    "name": "ipython",
    "version": 3
   },
   "file_extension": ".py",
   "mimetype": "text/x-python",
   "name": "python",
   "nbconvert_exporter": "python",
   "pygments_lexer": "ipython3",
   "version": "3.9.12"
  }
 },
 "nbformat": 4,
 "nbformat_minor": 5
}
